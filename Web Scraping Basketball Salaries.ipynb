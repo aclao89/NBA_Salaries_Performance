{
 "cells": [
  {
   "cell_type": "markdown",
   "id": "b091a02c",
   "metadata": {},
   "source": [
    "# How is NBA Salary linked to Player Performance?\n",
    "\n",
    "### The goals of this project:\n",
    "\n",
    "#### 1. Explore and analyze how NBA players' salaries are linked to performance. \n",
    "#### 2. Players who are overpaid/underpaid by position\n",
    "#### 3. Driver better decisions to identify quality or above-average players at a low-cost or below-average pay (in per minute terms)"
   ]
  },
  {
   "cell_type": "code",
   "execution_count": 1,
   "id": "1f97bfe8",
   "metadata": {},
   "outputs": [],
   "source": [
    "# Import Libraries\n",
    "\n",
    "import pandas as pd\n",
    "import numpy as np\n",
    "import matplotlib.pyplot as plt\n",
    "import requests\n",
    "from bs4 import BeautifulSoup"
   ]
  },
  {
   "cell_type": "code",
   "execution_count": 3,
   "id": "df6fed44",
   "metadata": {},
   "outputs": [],
   "source": [
    "#Scraping from Basketball Reference to obtain player season totals\n",
    "\n",
    "years = list(range(2000, 2022))\n",
    "\n",
    "url_totals = \"https://www.basketball-reference.com/leagues/NBA_{}_totals.html\"\n",
    "\n",
    "for year in years:\n",
    "    url = url_totals.format(year)\n",
    "    data = requests.get(url)\n",
    "    \n",
    "    with open(\"totals/{}.html\".format(year), \"w+\", encoding = \"utf-8\") as f:\n",
    "        f.write(data.text)"
   ]
  },
  {
   "cell_type": "code",
   "execution_count": null,
   "id": "df31cd82",
   "metadata": {},
   "outputs": [],
   "source": []
  },
  {
   "cell_type": "code",
   "execution_count": null,
   "id": "d360f5fe",
   "metadata": {},
   "outputs": [],
   "source": []
  },
  {
   "cell_type": "code",
   "execution_count": null,
   "id": "1d5200e3",
   "metadata": {},
   "outputs": [],
   "source": []
  },
  {
   "cell_type": "code",
   "execution_count": null,
   "id": "8f232b8f",
   "metadata": {},
   "outputs": [],
   "source": []
  }
 ],
 "metadata": {
  "kernelspec": {
   "display_name": "Python 3",
   "language": "python",
   "name": "python3"
  },
  "language_info": {
   "codemirror_mode": {
    "name": "ipython",
    "version": 3
   },
   "file_extension": ".py",
   "mimetype": "text/x-python",
   "name": "python",
   "nbconvert_exporter": "python",
   "pygments_lexer": "ipython3",
   "version": "3.8.8"
  }
 },
 "nbformat": 4,
 "nbformat_minor": 5
}
