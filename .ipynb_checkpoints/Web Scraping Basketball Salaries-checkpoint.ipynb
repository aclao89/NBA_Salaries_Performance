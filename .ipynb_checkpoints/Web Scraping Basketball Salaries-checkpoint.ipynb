{
 "cells": [
  {
   "cell_type": "markdown",
   "id": "1d46807e",
   "metadata": {},
   "source": [
    "# How is NBA Salary linked to Player Performance?\n",
    "\n",
    "### The goals of this project:\n",
    "\n",
    "#### 1. Explore and analyze how NBA players' salaries are linked to performance. \n",
    "#### 2. Players who are overpaid/underpaid by position\n",
    "#### 3. Driver better decisions to identify quality or above-average players at a low-cost or below-average pay (in per minute terms)"
   ]
  },
  {
   "cell_type": "code",
   "execution_count": 1,
   "id": "c082f937",
   "metadata": {},
   "outputs": [],
   "source": [
    "# Import Libraries\n",
    "\n",
    "import pandas as pd\n",
    "import numpy as np\n",
    "import matplotlib.pyplot as plt\n",
    "import requests\n",
    "from bs4 import BeautifulSoup"
   ]
  },
  {
   "cell_type": "code",
   "execution_count": null,
   "id": "e07958e6",
   "metadata": {},
   "outputs": [],
   "source": [
    "#Scraping from Basketball Reference to obtain player season totals\n",
    "\n",
    "years = list(range(2000, 2022))\n",
    "\n",
    "url_totals = \"https://www.basketball-reference.com/leagues/NBA_{}_totals.html\""
   ]
  },
  {
   "cell_type": "code",
   "execution_count": null,
   "id": "79dc1aef",
   "metadata": {},
   "outputs": [],
   "source": []
  },
  {
   "cell_type": "code",
   "execution_count": null,
   "id": "5cc88ef8",
   "metadata": {},
   "outputs": [],
   "source": []
  },
  {
   "cell_type": "code",
   "execution_count": null,
   "id": "2db5ad59",
   "metadata": {},
   "outputs": [],
   "source": []
  },
  {
   "cell_type": "code",
   "execution_count": null,
   "id": "f0c4f774",
   "metadata": {},
   "outputs": [],
   "source": []
  }
 ],
 "metadata": {
  "kernelspec": {
   "display_name": "Python 3",
   "language": "python",
   "name": "python3"
  },
  "language_info": {
   "codemirror_mode": {
    "name": "ipython",
    "version": 3
   },
   "file_extension": ".py",
   "mimetype": "text/x-python",
   "name": "python",
   "nbconvert_exporter": "python",
   "pygments_lexer": "ipython3",
   "version": "3.8.8"
  }
 },
 "nbformat": 4,
 "nbformat_minor": 5
}
