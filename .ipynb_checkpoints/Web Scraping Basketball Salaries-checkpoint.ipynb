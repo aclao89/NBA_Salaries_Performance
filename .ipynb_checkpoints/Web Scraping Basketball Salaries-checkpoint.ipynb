{
 "cells": [
  {
   "cell_type": "markdown",
   "id": "5d8cd82a",
   "metadata": {},
   "source": [
    "# How is NBA Salary linked to Player Performance?\n",
    "\n",
    "### The goals of this project:\n",
    "\n",
    "#### 1. Assess how NBA players' salaries are linked to performance. \n",
    "#### 2. Players who are overpaid/underpaid by position\n",
    "#### 3. Driver better decisions to get quality role players at a low-cost"
   ]
  },
  {
   "cell_type": "code",
   "execution_count": 1,
   "id": "261cd38b",
   "metadata": {},
   "outputs": [],
   "source": [
    "# Import Libraries\n",
    "\n",
    "import pandas as pd\n",
    "import numpy as np\n",
    "import matplotlib.pyplot as plt\n",
    "import requests\n",
    "from bs4 import BeautifulSoup"
   ]
  },
  {
   "cell_type": "code",
   "execution_count": null,
   "id": "b2a1056b",
   "metadata": {},
   "outputs": [],
   "source": [
    "#"
   ]
  },
  {
   "cell_type": "code",
   "execution_count": null,
   "id": "d546a8c5",
   "metadata": {},
   "outputs": [],
   "source": []
  },
  {
   "cell_type": "code",
   "execution_count": null,
   "id": "ff3bb3c8",
   "metadata": {},
   "outputs": [],
   "source": []
  },
  {
   "cell_type": "code",
   "execution_count": null,
   "id": "9c23e28c",
   "metadata": {},
   "outputs": [],
   "source": []
  },
  {
   "cell_type": "code",
   "execution_count": null,
   "id": "aea70707",
   "metadata": {},
   "outputs": [],
   "source": []
  }
 ],
 "metadata": {
  "kernelspec": {
   "display_name": "Python 3",
   "language": "python",
   "name": "python3"
  },
  "language_info": {
   "codemirror_mode": {
    "name": "ipython",
    "version": 3
   },
   "file_extension": ".py",
   "mimetype": "text/x-python",
   "name": "python",
   "nbconvert_exporter": "python",
   "pygments_lexer": "ipython3",
   "version": "3.8.8"
  }
 },
 "nbformat": 4,
 "nbformat_minor": 5
}
